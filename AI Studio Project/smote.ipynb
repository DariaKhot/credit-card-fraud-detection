{
 "cells": [
  {
   "cell_type": "code",
   "execution_count": null,
   "metadata": {},
   "outputs": [],
   "source": [
    "from imblearn.over_sampling import SMOTE\n",
    "\n",
    "# Applying SMOTE\n",
    "smote = SMOTE(random_state=42)\n",
    "x_res, y_res = smote.fit_resample(x_train, y_train)\n",
    "\n",
    "df_train = pd.concat([pd.DataFrame(x_res), pd.Series(y_res, name='is_fraud')], axis=1)\n",
    "\n",
    "# Display new class counts\n",
    "df_train['is_fraud'].value_counts()\n",
    "\n",
    "# Applying SMOTE\n",
    "smote = SMOTE(random_state=42)\n",
    "x_res, y_res = smote.fit_resample(x_test, y_test)\n",
    "\n",
    "df_test = pd.concat([pd.DataFrame(x_res), pd.Series(y_res, name='is_fraud')], axis=1)\n",
    "\n",
    "# Display new class counts\n",
    "df_test['is_fraud'].value_counts()"
   ]
  }
 ],
 "metadata": {
  "language_info": {
   "name": "python"
  }
 },
 "nbformat": 4,
 "nbformat_minor": 2
}
